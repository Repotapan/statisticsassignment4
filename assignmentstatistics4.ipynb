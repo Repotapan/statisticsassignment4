{
 "cells": [
  {
   "cell_type": "markdown",
   "id": "0da53e28-6d34-4227-93c7-4fe49a4b03ce",
   "metadata": {},
   "source": [
    "Q1: What is Estimation Statistics? Explain point estimate and interval estimate?"
   ]
  },
  {
   "cell_type": "markdown",
   "id": "cc5374a9-6708-4677-86d2-ba66e6017a09",
   "metadata": {},
   "source": [
    "Estimation statistics is a branch of statistics that deals with estimating population parameters, such as the population mean or population proportion, from sample data. It involves making inferences about population characteristics based on sample data, using either point estimates or interval estimates.\n",
    "\n",
    "Point estimate refers to a single value that is used to estimate a population parameter. For example, the sample mean is a point estimate of the population mean, while the sample proportion is a point estimate of the population proportion. Point estimates are often calculated as the sample statistic that best represents the population parameter. However, they do not provide any information about the uncertainty or variability associated with the estimate.\n",
    "\n",
    "Interval estimate, on the other hand, provides a range of plausible values for a population parameter. It is also called a confidence interval. A confidence interval is constructed based on the sample statistic and its associated standard error. The interval estimate consists of two values, an upper bound and a lower bound, which define the range of values that is likely to contain the true population parameter with a certain level of confidence. For example, a 95% confidence interval for the population mean would provide a range of values within which the population mean is estimated to lie with a 95% level of confidence.\n",
    "\n",
    "Interval estimates are more informative than point estimates because they provide a measure of the uncertainty associated with the estimate. They allow us to quantify the level of confidence we have in our estimate and determine the precision of our estimate. However, interval estimates are wider than point estimates, which means that they are less precise."
   ]
  },
  {
   "cell_type": "markdown",
   "id": "f473d95e-f38c-4308-96b8-da16a4b1888c",
   "metadata": {},
   "source": [
    "Q2. Write a Python function to estimate the population mean using a sample mean and standard\n",
    "deviation?"
   ]
  },
  {
   "cell_type": "code",
   "execution_count": 3,
   "id": "0921dad7-db2f-4d8e-a52d-4fc5e9defac0",
   "metadata": {},
   "outputs": [],
   "source": [
    "import math\n",
    "\n",
    "def estimate_population_mean(sample_mean, sample_std_dev, sample_size):\n",
    "    \"\"\"\n",
    "    Calculates the estimated population mean based on a sample mean, standard deviation and sample size\n",
    "    \"\"\"\n",
    "    standard_error = sample_std_dev / math.sqrt(sample_size)\n",
    "    lower_bound = sample_mean - 1.96 * standard_error  # 95% confidence interval\n",
    "    upper_bound = sample_mean + 1.96 * standard_error  # 95% confidence interval\n",
    "    return (lower_bound, upper_bound)\n"
   ]
  },
  {
   "cell_type": "markdown",
   "id": "29ce31ba-f73f-431c-8cc4-09af11e02df6",
   "metadata": {},
   "source": [
    "Q3: What is Hypothesis testing? Why is it used? State the importance of Hypothesis testing?"
   ]
  },
  {
   "cell_type": "markdown",
   "id": "0b143f08-731a-4b18-ab3b-9cbb085e0233",
   "metadata": {},
   "source": [
    "Hypothesis testing is a statistical method used to make decisions based on data, by testing whether a hypothesis about a population parameter is supported by the sample data. The hypothesis testing process involves making assumptions about the population parameter based on the sample data, and then determining the probability of observing the sample data, assuming that the null hypothesis is true.\n",
    "\n",
    "Hypothesis testing is used to make inferences about a population based on a sample, and to draw conclusions about the statistical significance of the results. It is used in a variety of fields, including medicine, engineering, business, and social sciences, to test theories and hypotheses and make informed decisions based on data.\n",
    "\n",
    "The importance of hypothesis testing lies in its ability to provide a structured approach to making decisions based on data. By defining clear hypotheses and test criteria, hypothesis testing allows researchers and decision-makers to make informed decisions based on the evidence. It also helps to reduce the risk of making decisions based on random fluctuations or biased interpretations of the data.\n",
    "\n",
    "Hypothesis testing can also help to identify relationships between variables and to determine the strength of those relationships. It can be used to determine whether a treatment or intervention has a significant effect, to compare groups or populations, and to test the validity of models or theories.\n",
    "\n",
    "Overall, hypothesis testing is an important tool for making data-driven decisions, and for advancing scientific knowledge by testing theories and hypotheses."
   ]
  },
  {
   "cell_type": "markdown",
   "id": "822f13d0-b57d-4224-adb3-72ecd543d2a9",
   "metadata": {},
   "source": [
    "Q4. Create a hypothesis that states whether the average weight of male college students is greater than\n",
    "the average weight of female college students?"
   ]
  },
  {
   "cell_type": "markdown",
   "id": "8566bf39-a254-4c7b-b625-25274c3ec474",
   "metadata": {},
   "source": [
    "Null Hypothesis=The average weight of male college students is greater than\n",
    "the average weight of female college students.\n",
    "Alternate Hypothesis==The average weight of male college students is  not greater than\n",
    "the average weight of female college students."
   ]
  },
  {
   "cell_type": "markdown",
   "id": "528cadaf-4bfe-4de3-a501-ebaa63f3db53",
   "metadata": {},
   "source": [
    "Q5. Write a Python script to conduct a hypothesis test on the difference between two population means,\n",
    "given a sample from each population?"
   ]
  },
  {
   "cell_type": "code",
   "execution_count": null,
   "id": "e6b30e20-68fd-40f9-a492-1538077327e0",
   "metadata": {},
   "outputs": [],
   "source": [
    "import scipy.stats as stats\n",
    "\n",
    "def two_sample_t_test(sample1, sample2, alpha):\n",
    "    \"\"\"\n",
    "    Conducts a two-sample t-test on the difference between two population means.\n",
    "    Returns the test statistic, p-value, and whether the null hypothesis is rejected.\n",
    "    \"\"\"\n",
    "    n1 = len(sample1)\n",
    "    n2 = len(sample2)\n",
    "    mean1 = sum(sample1) / n1\n",
    "    mean2 = sum(sample2) / n2\n",
    "    var1 = sum((x - mean1) ** 2 for x in sample1) / (n1 - 1)\n",
    "    var2 = sum((x - mean2) ** 2 for x in sample2) / (n2 - 1)\n",
    "    dof = n1 + n2 - 2\n",
    "    se = ((var1 / n1) + (var2 / n2)) ** 0.5\n",
    "    t_stat = (mean1 - mean2) / se\n",
    "    p_value = stats.t.sf(abs(t_stat), dof) * 2\n",
    "    if p_value < alpha:\n",
    "        return t_stat, p_value, True\n",
    "    else:\n",
    "        return t_stat, p_value, False\n"
   ]
  },
  {
   "cell_type": "markdown",
   "id": "e578f618-16fd-4471-9ce6-7335d5f4dab9",
   "metadata": {},
   "source": [
    "Q6: What is a null and alternative hypothesis? Give some examples?"
   ]
  },
  {
   "cell_type": "markdown",
   "id": "10408d6f-104b-44c8-ae3c-81cb66266168",
   "metadata": {},
   "source": [
    "The assumption you are begining with is called null hypothesis.\n",
    "The alternate hypothesis is opposite to the null hypothesis.\n",
    "Example-person crime in court."
   ]
  },
  {
   "cell_type": "markdown",
   "id": "468a0e4e-8d87-4491-ac07-9f90cded688f",
   "metadata": {},
   "source": [
    "Q7: Write down the steps involved in hypothesis testing?"
   ]
  },
  {
   "cell_type": "markdown",
   "id": "d6e4256d-dbf9-43d9-aa6d-efbe9d65a059",
   "metadata": {},
   "source": [
    "step-1 : first we find null hypothesis and the alternate hypothesis \n",
    "step-2 : find significance value \n",
    "step-3 : we find confidential interval\n",
    "step-4 : Then we find z_score which is the p-value.\n",
    "step-5 : If p value < significance value then we reject the null hypothesis \n",
    "Else:\n",
    "    we fail to reject the null hypothesis"
   ]
  },
  {
   "cell_type": "markdown",
   "id": "0611d0a6-d529-4099-a3da-7ab90f91a14d",
   "metadata": {},
   "source": [
    "Q8. Define p-value and explain its significance in hypothesis testing?"
   ]
  },
  {
   "cell_type": "markdown",
   "id": "5546beb8-af06-4aed-ab2e-e938330cb5c2",
   "metadata": {},
   "source": [
    "In hypothesis testing, the p-value is the probability of observing a test statistic as extreme as or more extreme than the one calculated from the sample data, assuming that the null hypothesis is true. Put simply, it measures the strength of evidence against the null hypothesis.\n",
    "\n",
    "The significance of the p-value lies in its ability to help researchers and decision-makers determine whether to reject or fail to reject the null hypothesis. Typically, a predetermined significance level (alpha) is chosen, such as 0.05 or 0.01, which represents the maximum probability of a Type I error (rejecting the null hypothesis when it is actually true). If the p-value is less than or equal to the significance level, then the null hypothesis is rejected, and it is concluded that there is evidence to support the alternative hypothesis. If the p-value is greater than the significance level, then the null hypothesis is not rejected, and it is concluded that there is insufficient evidence to support the alternative hypothesis.\n",
    "\n",
    "The p-value provides a standardized measure of the strength of evidence against the null hypothesis, and it allows researchers and decision-makers to compare the strength of evidence across different studies or analyses. It also helps to reduce the risk of making decisions based on random fluctuations or biased interpretations of the data.\n",
    "\n",
    "However, it is important to note that the p-value does not provide information about the size or practical significance of the effect. A small p-value does not necessarily indicate a large or important effect, and a large p-value does not necessarily indicate a small or unimportant effect. It is also not a measure of the probability that the alternative hypothesis is true. Therefore, the p-value should be considered in conjunction with other factors, such as effect size, study design, and practical significance, when making decisions based on the results of hypothesis tests."
   ]
  },
  {
   "cell_type": "markdown",
   "id": "936a9e74-fd39-41d8-9c89-bed3a2966ef6",
   "metadata": {},
   "source": [
    "Q9. Generate a Student's t-distribution plot using Python's matplotlib library, with the degrees of freedom\n",
    "parameter set to 10?"
   ]
  },
  {
   "cell_type": "code",
   "execution_count": null,
   "id": "16271573-374a-4373-a1bc-cad565655bff",
   "metadata": {},
   "outputs": [],
   "source": [
    "import matplotlib.pyplot as plt\n",
    "import numpy as np\n",
    "import scipy.stats as stats\n",
    "\n",
    "# Set the degrees of freedom\n",
    "df = 10\n",
    "\n",
    "# Generate the x-axis values (t-values)\n",
    "t_values = np.linspace(-4, 4, 1000)\n",
    "\n",
    "# Calculate the y-axis values (pdf values)\n",
    "pdf_values = stats.t.pdf(t_values, df)\n",
    "\n",
    "# Create the plot\n",
    "fig, ax = plt.subplots()\n",
    "ax.plot(t_values, pdf_values, label=f\"df = {df}\")\n",
    "\n",
    "# Set the plot title and axis labels\n",
    "ax.set_title(\"Student's t-distribution\")\n",
    "ax.set_xlabel(\"t-values\")\n",
    "ax.set_ylabel(\"Probability density function\")\n",
    "\n",
    "# Add a legend and display the plot\n",
    "ax.legend()\n",
    "plt.show()\n"
   ]
  },
  {
   "cell_type": "markdown",
   "id": "b4e9d5be-3229-4df9-9a55-72cd5f22dd26",
   "metadata": {},
   "source": [
    "Q10. Write a Python program to calculate the two-sample t-test for independent samples, given two\n",
    "random samples of equal size and a null hypothesis that the population means are equal?"
   ]
  },
  {
   "cell_type": "code",
   "execution_count": null,
   "id": "4bfcbc14-948d-4fe0-9ffe-51483194fac2",
   "metadata": {},
   "outputs": [],
   "source": [
    "import numpy as np\n",
    "from scipy.stats import ttest_ind\n",
    "\n",
    "# Generate two random samples of equal size\n",
    "sample1 = np.random.normal(10, 2, size=50)\n",
    "sample2 = np.random.normal(12, 2, size=50)\n",
    "\n",
    "# Calculate the t-statistic and p-value for the two-sample t-test\n",
    "t_statistic, p_value = ttest_ind(sample1, sample2)\n",
    "\n",
    "# Print the results\n",
    "print(f\"Sample 1 mean: {np.mean(sample1)}\")\n",
    "print(f\"Sample 2 mean: {np.mean(sample2)}\")\n",
    "print(f\"T-statistic: {t_statistic}\")\n",
    "print(f\"P-value: {p_value}\")\n"
   ]
  },
  {
   "cell_type": "markdown",
   "id": "be51edab-9eea-40c2-98dd-64d99ebd7001",
   "metadata": {},
   "source": [
    "Q11: What is Student’s t distribution? When to use the t-Distribution?"
   ]
  },
  {
   "cell_type": "markdown",
   "id": "0a6ce937-0c45-4e4b-8d95-85afc63bd2ed",
   "metadata": {},
   "source": [
    "Student's t-distribution is a probability distribution that arises in hypothesis testing when the population standard deviation is unknown and must be estimated from a small sample. It is a bell-shaped distribution that is similar in shape to the standard normal distribution but has heavier tails. The shape of the distribution depends on the degrees of freedom, which are determined by the sample size. As the sample size increases, the t-distribution approaches the standard normal distribution.\n",
    "\n",
    "The t-distribution is used in hypothesis testing when the population standard deviation is unknown and must be estimated from a small sample. In this case, the test statistic is calculated using the sample mean and standard deviation, and its distribution is approximated by the t-distribution. The t-distribution is also used when the sample size is small and the population is not normally distributed, in which case the Central Limit Theorem may not apply.\n",
    "\n",
    "The t-distribution is commonly used in statistics for confidence interval estimation, hypothesis testing, and constructing tolerance intervals. It is also used in various applications, including quality control, reliability engineering, and experimental design."
   ]
  },
  {
   "cell_type": "markdown",
   "id": "a1dcf5c8-e13f-4756-9628-d321142498e1",
   "metadata": {},
   "source": [
    "Q12: What is t-statistic? State the formula for t-statistic?"
   ]
  },
  {
   "cell_type": "markdown",
   "id": "b9aa2760-38a7-47d3-8b36-af1a99b87098",
   "metadata": {},
   "source": [
    "In statistics, the t-statistic is a measure of the difference between a sample mean and a hypothesized population mean, relative to the variability in the sample. It is used in hypothesis testing to determine whether the difference between the sample mean and the hypothesized population mean is statistically significant.\n",
    "\n",
    "The formula for the t-statistic is:\n",
    "\n",
    "t = (x̄ - μ) / (s / √n)\n",
    "\n",
    "where:\n",
    "\n",
    "x̄ is the sample mean\n",
    "μ is the hypothesized population mean\n",
    "s is the sample standard deviation\n",
    "n is the sample size\n",
    "The t-statistic is calculated by subtracting the hypothesized population mean from the sample mean, and then dividing the result by the standard error of the sample mean. The standard error of the sample mean is the standard deviation of the sample divided by the square root of the sample size. The t-statistic measures how many standard errors the sample mean is from the hypothesized population mean. A large absolute value of the t-statistic indicates a larger difference between the sample mean and the hypothesized population mean, relative to the variability in the sample. The t-statistic follows a t-distribution with n-1 degrees of freedom, where n is the sample size."
   ]
  },
  {
   "cell_type": "markdown",
   "id": "95b8e5a6-1227-41d8-a828-6257b3d8f024",
   "metadata": {},
   "source": [
    "Q13. A coffee shop owner wants to estimate the average daily revenue for their shop. They take a random\n",
    "sample of 50 days and find the sample mean revenue to be $500 with a standard deviation of $50.\n",
    "Estimate the population mean revenue with a 95% confidence interval?"
   ]
  },
  {
   "cell_type": "markdown",
   "id": "bc1daea5-3cea-461e-8ef8-67d35377b9bb",
   "metadata": {},
   "source": [
    "To estimate the population mean revenue with a 95% confidence interval, we can use the following formula:\n",
    "\n",
    "CI = x̄ ± tα/2 * (s/√n)\n",
    "\n",
    "where:\n",
    "\n",
    "CI is the confidence interval\n",
    "x̄ is the sample mean revenue ($500)\n",
    "tα/2 is the t-score associated with a 95% confidence level and 49 degrees of freedom (50 - 1 = 49). Using a t-table, we find tα/2 to be 2.009.\n",
    "s is the sample standard deviation ($50)\n",
    "n is the sample size (50)\n",
    "Plugging in the values, we get:\n",
    "\n",
    "CI = 500 ± 2.009 * (50/√50)\n",
    "CI = 500 ± 14.14\n",
    "\n",
    "Therefore, the 95% confidence interval for the population mean revenue is (485.86, 514.14). We can be 95% confident that the true population mean revenue falls within this interval."
   ]
  },
  {
   "cell_type": "markdown",
   "id": "2e2646ef-fd3e-40cd-8020-153a5405ceb2",
   "metadata": {},
   "source": [
    "Q14. A researcher hypothesizes that a new drug will decrease blood pressure by 10 mmHg. They conduct a\n",
    "clinical trial with 100 patients and find that the sample mean decrease in blood pressure is 8 mmHg with a\n",
    "standard deviation of 3 mmHg. Test the hypothesis with a significance level of 0.05?"
   ]
  },
  {
   "cell_type": "markdown",
   "id": "b0c573f3-9f80-4dc9-8935-e205a67b5fc9",
   "metadata": {},
   "source": [
    "o test the hypothesis that the new drug decreases blood pressure by 10 mmHg, we can use a one-sample t-test. The null and alternative hypotheses are:\n",
    "\n",
    "H0: μ = 10 (the new drug does not decrease blood pressure by 10 mmHg)\n",
    "Ha: μ < 10 (the new drug decreases blood pressure by less than 10 mmHg)\n",
    "\n",
    "We will use a significance level of 0.05, which means that we will reject the null hypothesis if the p-value is less than 0.05.\n",
    "\n",
    "The test statistic for the one-sample t-test is:\n",
    "\n",
    "t = (x̄ - μ) / (s/√n)\n",
    "\n",
    "where:\n",
    "\n",
    "x̄ is the sample mean decrease in blood pressure (8 mmHg)\n",
    "μ is the hypothesized population mean decrease in blood pressure (10 mmHg)\n",
    "s is the sample standard deviation (3 mmHg)\n",
    "n is the sample size (100)\n",
    "Plugging in the values, we get:\n",
    "\n",
    "t = (8 - 10) / (3/√100)\n",
    "t = -2.82\n",
    "\n",
    "Using a t-table with 99 degrees of freedom (100 - 1 = 99), we find the p-value to be less than 0.005. Since the p-value is less than 0.05, we reject the null hypothesis and conclude that there is sufficient evidence to support the alternative hypothesis that the new drug decreases blood pressure by less than 10 mmHg."
   ]
  },
  {
   "cell_type": "markdown",
   "id": "41ddd351-9dc1-4010-8781-7ef5ba0a287c",
   "metadata": {},
   "source": [
    "Q15. An electronics company produces a certain type of product with a mean weight of 5 pounds and a\n",
    "standard deviation of 0.5 pounds. A random sample of 25 products is taken, and the sample mean weight\n",
    "is found to be 4.8 pounds. Test the hypothesis that the true mean weight of the products is less than 5\n",
    "pounds with a significance level of 0.01?"
   ]
  },
  {
   "cell_type": "markdown",
   "id": "5f453f65-c416-425a-8d8a-1dab26411d8f",
   "metadata": {},
   "source": [
    "To test the hypothesis that the true mean weight of the products is less than 5 pounds, we can use a one-tailed t-test with the following null and alternative hypotheses:\n",
    "\n",
    "Null hypothesis: The true mean weight of the products is equal to 5 pounds.\n",
    "Alternative hypothesis: The true mean weight of the products is less than 5 pounds.\n",
    "\n",
    "The significance level is given as 0.01, which means we need to find the critical t-value for a one-tailed test with 24 degrees of freedom and a significance level of 0.01. This can be done using a t-table or a calculator and gives a critical t-value of -2.492.\n",
    "\n",
    "Next, we need to calculate the test statistic, which is given by:\n",
    "\n",
    "t = (sample mean - hypothesized mean) / (standard deviation / sqrt(sample size))\n",
    "\n",
    "Plugging in the values, we get:\n",
    "\n",
    "t = (4.8 - 5) / (0.5 / sqrt(25)) = -2.0\n",
    "\n",
    "The test statistic is -2.0, which is less than the critical t-value of -2.492. Therefore, we reject the null hypothesis and conclude that the true mean weight of the products is less than 5 pounds at a significance level of 0.01.\n",
    "\n",
    "In other words, we have evidence to suggest that the company is producing products with a mean weight less than 5 pounds."
   ]
  },
  {
   "cell_type": "markdown",
   "id": "958da1b9-e4ac-4342-8585-40bdcf2972a3",
   "metadata": {},
   "source": [
    "Q16. Two groups of students are given different study materials to prepare for a test. The first group (n1 =\n",
    "30) has a mean score of 80 with a standard deviation of 10, and the second group (n2 = 40) has a mean\n",
    "score of 75 with a standard deviation of 8. Test the hypothesis that the population means for the two\n",
    "groups are equal with a significance level of 0.01?"
   ]
  },
  {
   "cell_type": "markdown",
   "id": "c4183bce-7670-4392-a4d3-3aefb99586e6",
   "metadata": {},
   "source": [
    "To test the hypothesis that the population means for the two groups are equal, we can use a two-sample t-test with the following null and alternative hypotheses:\n",
    "\n",
    "Null hypothesis: The population means for the two groups are equal.\n",
    "Alternative hypothesis: The population means for the two groups are not equal.\n",
    "\n",
    "The significance level is given as 0.01, which means we need to find the critical t-value for a two-tailed test with (30 + 40 - 2) = 68 degrees of freedom and a significance level of 0.01/2 = 0.005. This can be done using a t-table or a calculator and gives a critical t-value of ±2.636.\n",
    "\n",
    "Next, we need to calculate the test statistic, which is given by:\n",
    "\n",
    "t = (sample mean difference - hypothesized difference) / standard error\n",
    "\n",
    "where the sample mean difference is the difference between the two sample means, hypothesized difference is the assumed difference under the null hypothesis, and the standard error is given by:\n",
    "\n",
    "SE = sqrt((s1^2/n1) + (s2^2/n2))\n",
    "\n",
    "Plugging in the values, we get:\n",
    "\n",
    "sample mean difference = 80 - 75 = 5\n",
    "hypothesized difference = 0\n",
    "s1 = 10, n1 = 30\n",
    "s2 = 8, n2 = 40\n",
    "\n",
    "SE = sqrt((10^2/30) + (8^2/40)) = 2.464\n",
    "\n",
    "t = (5 - 0) / 2.464 = 2.026\n",
    "\n",
    "The test statistic is 2.026, which is greater than the critical t-value of ±2.636. Therefore, we fail to reject the null hypothesis and conclude that there is insufficient evidence to suggest that the population means for the two groups are different at a significance level of 0.01.\n",
    "\n",
    "In other words, we cannot conclude that the study materials provided to the two groups resulted in different test scores."
   ]
  },
  {
   "cell_type": "markdown",
   "id": "853bb487-53c6-4495-9fe0-9f7875f4ceac",
   "metadata": {},
   "source": [
    "Q17. A marketing company wants to estimate the average number of ads watched by viewers during a TV\n",
    "program. They take a random sample of 50 viewers and find that the sample mean is 4 with a standard\n",
    "deviation of 1.5. Estimate the population mean with a 99% confidence interval?"
   ]
  },
  {
   "cell_type": "markdown",
   "id": "7735563e-ba3a-42ec-b076-da3e5d7dd6d7",
   "metadata": {},
   "source": [
    "To estimate the population mean with a 99% confidence interval, we can use the following formula:\n",
    "\n",
    "Confidence interval = sample mean ± (critical value) x (standard error)\n",
    "\n",
    "where the critical value is obtained from the t-distribution table for a given level of confidence and degrees of freedom, and the standard error is calculated as:\n",
    "\n",
    "Standard error = standard deviation / sqrt(sample size)\n",
    "\n",
    "In this case, we have:\n",
    "\n",
    "Sample size (n) = 50\n",
    "Sample mean (x̄) = 4\n",
    "Standard deviation (s) = 1.5\n",
    "\n",
    "Degrees of freedom (df) = n - 1 = 49 (since we are using the t-distribution)\n",
    "\n",
    "From the t-distribution table for 49 degrees of freedom and a 99% confidence level, the critical value is 2.680.\n",
    "\n",
    "The standard error is:\n",
    "\n",
    "Standard error = 1.5 / sqrt(50) = 0.2121\n",
    "\n",
    "Plugging in the values, we get:\n",
    "\n",
    "Confidence interval = 4 ± (2.680) x (0.2121)\n",
    "= 4 ± 0.568\n",
    "\n",
    "Therefore, the 99% confidence interval for the population mean is (3.432, 4.568).\n",
    "\n",
    "We can say with 99% confidence that the average number of ads watched by viewers during a TV program is between 3.432 and 4.568."
   ]
  },
  {
   "cell_type": "code",
   "execution_count": null,
   "id": "2f77d141-426d-4855-b968-5692020baacc",
   "metadata": {},
   "outputs": [],
   "source": []
  }
 ],
 "metadata": {
  "kernelspec": {
   "display_name": "Python 3 (ipykernel)",
   "language": "python",
   "name": "python3"
  },
  "language_info": {
   "codemirror_mode": {
    "name": "ipython",
    "version": 3
   },
   "file_extension": ".py",
   "mimetype": "text/x-python",
   "name": "python",
   "nbconvert_exporter": "python",
   "pygments_lexer": "ipython3",
   "version": "3.10.8"
  }
 },
 "nbformat": 4,
 "nbformat_minor": 5
}
